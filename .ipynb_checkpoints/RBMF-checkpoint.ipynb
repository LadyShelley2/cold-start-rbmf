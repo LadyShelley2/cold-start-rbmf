{
 "cells": [
  {
   "cell_type": "code",
   "execution_count": 174,
   "metadata": {
    "scrolled": true
   },
   "outputs": [],
   "source": [
    "import pandas as pd\n",
    "import numpy as np\n",
    "import pickle\n",
    "from sklearn.model_selection import train_test_split\n",
    "from sklearn.utils.extmath import randomized_svd\n",
    "from scipy.linalg import lu\n",
    "from numpy.linalg import inv,det"
   ]
  },
  {
   "cell_type": "markdown",
   "metadata": {},
   "source": [
    "## 准备数据\n",
    "### 读取数据并构造评分矩阵"
   ]
  },
  {
   "cell_type": "code",
   "execution_count": 5,
   "metadata": {},
   "outputs": [
    {
     "name": "stderr",
     "output_type": "stream",
     "text": [
      "c:\\users\\lbb\\appdata\\local\\programs\\python\\python36-32\\lib\\site-packages\\ipykernel_launcher.py:1: ParserWarning: Falling back to the 'python' engine because the 'c' engine does not support regex separators (separators > 1 char and different from '\\s+' are interpreted as regex); you can avoid this warning by specifying engine='python'.\n",
      "  \"\"\"Entry point for launching an IPython kernel.\n"
     ]
    }
   ],
   "source": [
    "ratings = pd.read_table('./ml-1m/ratings.dat',sep=\"::\",header= None)"
   ]
  },
  {
   "cell_type": "code",
   "execution_count": 6,
   "metadata": {},
   "outputs": [],
   "source": [
    "ratings.columns = [\"userId\",\"itemId\",\"rating\",\"timestamp\"]"
   ]
  },
  {
   "cell_type": "code",
   "execution_count": 10,
   "metadata": {},
   "outputs": [],
   "source": [
    "user_count = ratings.max().userId\n",
    "item_count = ratings.max().itemId\n",
    "rating_matrix = np.zeros([user_count,item_count])"
   ]
  },
  {
   "cell_type": "code",
   "execution_count": 58,
   "metadata": {},
   "outputs": [
    {
     "data": {
      "text/plain": [
       "(6040, 3952)"
      ]
     },
     "execution_count": 58,
     "metadata": {},
     "output_type": "execute_result"
    }
   ],
   "source": [
    "user_count,item_count"
   ]
  },
  {
   "cell_type": "code",
   "execution_count": 41,
   "metadata": {},
   "outputs": [],
   "source": [
    "# 将评分存入矩阵\n",
    "for i in range(0,ratings.shape[0]):\n",
    "    row = ratings.iloc[i]['userId']-1\n",
    "    column = ratings.iloc[i]['itemId']-1\n",
    "    rating_matrix[row][column] = ratings.iloc[i]['rating']"
   ]
  },
  {
   "cell_type": "code",
   "execution_count": 54,
   "metadata": {},
   "outputs": [],
   "source": [
    "tmp_arr = np.zeros([2,2])"
   ]
  },
  {
   "cell_type": "code",
   "execution_count": 55,
   "metadata": {},
   "outputs": [],
   "source": [
    "tmp_arr.dump('rating_matrix.dat')"
   ]
  },
  {
   "cell_type": "code",
   "execution_count": 56,
   "metadata": {},
   "outputs": [],
   "source": [
    "arr_load = np.load(\"rating_matrix.dat\")"
   ]
  },
  {
   "cell_type": "code",
   "execution_count": 57,
   "metadata": {},
   "outputs": [
    {
     "data": {
      "text/plain": [
       "array([[0., 0.],\n",
       "       [0., 0.]])"
      ]
     },
     "execution_count": 57,
     "metadata": {},
     "output_type": "execute_result"
    }
   ],
   "source": [
    "arr_load"
   ]
  },
  {
   "cell_type": "markdown",
   "metadata": {},
   "source": [
    "### 划分训练集和测试集"
   ]
  },
  {
   "cell_type": "code",
   "execution_count": 64,
   "metadata": {},
   "outputs": [],
   "source": [
    "m_train,m_test = train_test_split(rating_matrix, shuffle=True,test_size=0.25,random_state = 42)"
   ]
  },
  {
   "cell_type": "markdown",
   "metadata": {},
   "source": [
    "## SVD 分解"
   ]
  },
  {
   "cell_type": "code",
   "execution_count": 93,
   "metadata": {},
   "outputs": [],
   "source": [
    "# 定义超参数\n",
    "k = 100 # 分解的维度\n",
    "n_iter = 100 # SVD迭代的次数\n",
    "random_state = 10 # SVD 分解随机数种子"
   ]
  },
  {
   "cell_type": "code",
   "execution_count": 104,
   "metadata": {},
   "outputs": [],
   "source": [
    "U,Sigma,VT = randomized_svd(rating_matrix,n_components = k,n_iter = n_iter,random_state = random_state)"
   ]
  },
  {
   "cell_type": "code",
   "execution_count": 106,
   "metadata": {},
   "outputs": [
    {
     "name": "stdout",
     "output_type": "stream",
     "text": [
      "(6040, 100)\n",
      "(100,)\n",
      "(100, 3952)\n"
     ]
    }
   ],
   "source": [
    "print(U.shape)\n",
    "print(Sigma.shape)\n",
    "print(VT.shape)"
   ]
  },
  {
   "cell_type": "code",
   "execution_count": 108,
   "metadata": {
    "scrolled": true
   },
   "outputs": [
    {
     "data": {
      "text/plain": [
       "array([[ 0.00471429,  0.00165385, -0.00268146, ..., -0.0165422 ,\n",
       "        -0.00175571, -0.01677942],\n",
       "       [ 0.01075613, -0.00290476, -0.00020252, ..., -0.02502318,\n",
       "        -0.00697375, -0.01471592],\n",
       "       [ 0.00846798,  0.00191265,  0.00400211, ..., -0.01403078,\n",
       "        -0.00021911,  0.00765841],\n",
       "       ...,\n",
       "       [ 0.00138737,  0.0018147 ,  0.00011959, ...,  0.00138445,\n",
       "        -0.00037443, -0.00015454],\n",
       "       [ 0.00700296,  0.01876548,  0.01069747, ...,  0.01244836,\n",
       "         0.00599503, -0.02277751],\n",
       "       [ 0.01894793,  0.04081048,  0.00304383, ..., -0.0023173 ,\n",
       "         0.02302077, -0.00444759]])"
      ]
     },
     "execution_count": 108,
     "metadata": {},
     "output_type": "execute_result"
    }
   ],
   "source": [
    "U"
   ]
  },
  {
   "cell_type": "markdown",
   "metadata": {},
   "source": [
    "## 选择代表性 Item"
   ]
  },
  {
   "cell_type": "code",
   "execution_count": 113,
   "metadata": {},
   "outputs": [],
   "source": [
    "V = VT.transpose()"
   ]
  },
  {
   "cell_type": "code",
   "execution_count": 122,
   "metadata": {
    "scrolled": true
   },
   "outputs": [
    {
     "ename": "ValueError",
     "evalue": "shapes (3952,100) and (3952,3952) not aligned: 100 (dim 1) != 3952 (dim 0)",
     "output_type": "error",
     "traceback": [
      "\u001b[1;31m---------------------------------------------------------------------------\u001b[0m",
      "\u001b[1;31mValueError\u001b[0m                                Traceback (most recent call last)",
      "\u001b[1;32m<ipython-input-122-6c90ed64c5dd>\u001b[0m in \u001b[0;36m<module>\u001b[1;34m()\u001b[0m\n\u001b[1;32m----> 1\u001b[1;33m \u001b[1;33m(\u001b[0m\u001b[0mV\u001b[0m\u001b[1;33m@\u001b[0m\u001b[0mP\u001b[0m\u001b[1;33m)\u001b[0m\u001b[1;33m[\u001b[0m\u001b[1;33m:\u001b[0m\u001b[0mk\u001b[0m\u001b[1;33m,\u001b[0m\u001b[1;33m:\u001b[0m\u001b[1;33m]\u001b[0m\u001b[1;33m\u001b[0m\u001b[0m\n\u001b[0m",
      "\u001b[1;31mValueError\u001b[0m: shapes (3952,100) and (3952,3952) not aligned: 100 (dim 1) != 3952 (dim 0)"
     ]
    }
   ],
   "source": [
    "(V@P)[:k,:]"
   ]
  },
  {
   "cell_type": "code",
   "execution_count": 117,
   "metadata": {},
   "outputs": [],
   "source": [
    "P,L,U = lu(V)"
   ]
  },
  {
   "cell_type": "code",
   "execution_count": 177,
   "metadata": {},
   "outputs": [],
   "source": [
    "# todo\n",
    "# 算法不正确\n",
    "\n",
    "def representive_selection():\n",
    "    # init with LU factorization\n",
    "    P,L,U = lu(V)\n",
    "    #while True:\n",
    "    for time in range(0,10):\n",
    "        # 计算P\n",
    "        B = V@inv((P.transpose()@V)[:k,:])\n",
    "        # 寻找最大值\n",
    "        max = B.max()\n",
    "        # 计算行列式值\n",
    "        det_val = det((P.transpose()@V)[:k,:])\n",
    "        # 找到最大值所在index\n",
    "        index = np.argwhere(B==max)\n",
    "        # 交换index\n",
    "        for i in index:\n",
    "            print(i)\n",
    "            print(np.argwhere(P[i[0],:]==1))\n",
    "            print(np.argwhere(P[i[1],:]==1))\n",
    "\n",
    "            tmp = P[i[0],:].copy()\n",
    "            P[i[0],:] =  P[i[1],:].copy()\n",
    "            P[i[1],:] = tmp\n",
    "            \n",
    "        # 返回最后的permutation matrix P \n",
    "        return P\n"
   ]
  },
  {
   "cell_type": "code",
   "execution_count": 142,
   "metadata": {},
   "outputs": [
    {
     "data": {
      "text/plain": [
       "array([[ 0.09808079, -0.0198344 ,  0.10352231, ..., -0.15401785,\n",
       "        -0.08365113, -0.02069259],\n",
       "       [ 0.0433954 ,  0.09830657,  0.00737912, ...,  0.00642992,\n",
       "        -0.02746846,  0.05274011],\n",
       "       [ 0.0933523 ,  0.02252265, -0.10966038, ..., -0.0114884 ,\n",
       "        -0.08141033,  0.04426104],\n",
       "       ...,\n",
       "       [ 0.0026117 ,  0.00187215, -0.00178475, ..., -0.0056721 ,\n",
       "        -0.00152139, -0.00479889],\n",
       "       [ 0.00116478,  0.00226429, -0.00352312, ..., -0.00343079,\n",
       "        -0.00885462,  0.00101062],\n",
       "       [ 0.0132469 ,  0.00502456, -0.02237923, ..., -0.00154442,\n",
       "         0.02574464, -0.00295324]])"
      ]
     },
     "execution_count": 142,
     "metadata": {},
     "output_type": "execute_result"
    }
   ],
   "source": [
    "P.transpose()@V"
   ]
  },
  {
   "cell_type": "code",
   "execution_count": 141,
   "metadata": {},
   "outputs": [
    {
     "data": {
      "text/plain": [
       "array([[ 0.09808079, -0.0198344 ,  0.10352231, ..., -0.15401785,\n",
       "        -0.08365113, -0.02069259],\n",
       "       [ 0.0433954 ,  0.09830657,  0.00737912, ...,  0.00642992,\n",
       "        -0.02746846,  0.05274011],\n",
       "       [ 0.0933523 ,  0.02252265, -0.10966038, ..., -0.0114884 ,\n",
       "        -0.08141033,  0.04426104],\n",
       "       ...,\n",
       "       [ 0.0026117 ,  0.00187215, -0.00178475, ..., -0.0056721 ,\n",
       "        -0.00152139, -0.00479889],\n",
       "       [ 0.00116478,  0.00226429, -0.00352312, ..., -0.00343079,\n",
       "        -0.00885462,  0.00101062],\n",
       "       [ 0.0132469 ,  0.00502456, -0.02237923, ..., -0.00154442,\n",
       "         0.02574464, -0.00295324]])"
      ]
     },
     "execution_count": 141,
     "metadata": {},
     "output_type": "execute_result"
    }
   ],
   "source": [
    "L@U"
   ]
  },
  {
   "cell_type": "code",
   "execution_count": 132,
   "metadata": {},
   "outputs": [],
   "source": [
    "B = V@inv((P.transpose()@V)[:k,:])"
   ]
  },
  {
   "cell_type": "code",
   "execution_count": 135,
   "metadata": {},
   "outputs": [
    {
     "data": {
      "text/plain": [
       "3952"
      ]
     },
     "execution_count": 135,
     "metadata": {},
     "output_type": "execute_result"
    }
   ],
   "source": [
    "B.shape[0]"
   ]
  },
  {
   "cell_type": "code",
   "execution_count": 137,
   "metadata": {
    "scrolled": true
   },
   "outputs": [
    {
     "data": {
      "text/plain": [
       "[(109, 60),\n",
       " (911, 53),\n",
       " (1192, 38),\n",
       " (1264, 45),\n",
       " (2027, 25),\n",
       " (2986, 59),\n",
       " (3113, 88),\n",
       " (3542, 95)]"
      ]
     },
     "execution_count": 137,
     "metadata": {},
     "output_type": "execute_result"
    }
   ],
   "source": [
    "[(i,j) for i in range(0,B.shape[0]) for j in range(0,B.shape[1]) if B[i][j]==1]"
   ]
  },
  {
   "cell_type": "code",
   "execution_count": 151,
   "metadata": {},
   "outputs": [
    {
     "data": {
      "text/plain": [
       "[(18, 18),\n",
       " (19, 19),\n",
       " (24, 24),\n",
       " (25, 25),\n",
       " (30, 30),\n",
       " (38, 38),\n",
       " (53, 53),\n",
       " (59, 59),\n",
       " (60, 60),\n",
       " (87, 87),\n",
       " (88, 88),\n",
       " (95, 95)]"
      ]
     },
     "execution_count": 151,
     "metadata": {},
     "output_type": "execute_result"
    }
   ],
   "source": [
    "tmp = (P.transpose()@V)[:k,:]@inv((P.transpose()@V)[:k,:])\n",
    "\n",
    "[(i,j) for i in range(0,tmp.shape[0]) for j in range(0,tmp.shape[1]) if tmp[i][j]==1]"
   ]
  },
  {
   "cell_type": "code",
   "execution_count": 152,
   "metadata": {},
   "outputs": [
    {
     "data": {
      "text/plain": [
       "0.9999999999999998"
      ]
     },
     "execution_count": 152,
     "metadata": {},
     "output_type": "execute_result"
    }
   ],
   "source": [
    "tmp[0][0]"
   ]
  },
  {
   "cell_type": "code",
   "execution_count": null,
   "metadata": {},
   "outputs": [],
   "source": []
  },
  {
   "cell_type": "code",
   "execution_count": 155,
   "metadata": {},
   "outputs": [
    {
     "data": {
      "text/plain": [
       "1.9168330978771775"
      ]
     },
     "execution_count": 155,
     "metadata": {},
     "output_type": "execute_result"
    }
   ],
   "source": [
    "(np.abs(V@inv((P.transpose()@V)[:k,:]))).max()"
   ]
  },
  {
   "cell_type": "code",
   "execution_count": 153,
   "metadata": {},
   "outputs": [
    {
     "data": {
      "text/plain": [
       "[84]"
      ]
     },
     "execution_count": 153,
     "metadata": {},
     "output_type": "execute_result"
    }
   ],
   "source": [
    "[(np.abs(V@inv((P.transpose()@V)[:k,:]))>1+10**-6).sum()]"
   ]
  },
  {
   "cell_type": "code",
   "execution_count": null,
   "metadata": {},
   "outputs": [],
   "source": []
  },
  {
   "cell_type": "code",
   "execution_count": 118,
   "metadata": {},
   "outputs": [
    {
     "ename": "ValueError",
     "evalue": "shapes (3952,100) and (3952,3952) not aligned: 100 (dim 1) != 3952 (dim 0)",
     "output_type": "error",
     "traceback": [
      "\u001b[1;31m---------------------------------------------------------------------------\u001b[0m",
      "\u001b[1;31mValueError\u001b[0m                                Traceback (most recent call last)",
      "\u001b[1;32m<ipython-input-118-0230b0ae79a2>\u001b[0m in \u001b[0;36m<module>\u001b[1;34m()\u001b[0m\n\u001b[1;32m----> 1\u001b[1;33m \u001b[0mV\u001b[0m\u001b[1;33m@\u001b[0m\u001b[0minv\u001b[0m\u001b[1;33m(\u001b[0m\u001b[1;33m(\u001b[0m\u001b[0mV\u001b[0m\u001b[1;33m@\u001b[0m\u001b[0mP\u001b[0m\u001b[1;33m)\u001b[0m\u001b[1;33m[\u001b[0m\u001b[1;33m:\u001b[0m\u001b[0mk\u001b[0m\u001b[1;33m,\u001b[0m\u001b[1;33m:\u001b[0m\u001b[1;33m]\u001b[0m\u001b[1;33m)\u001b[0m\u001b[1;33m\u001b[0m\u001b[0m\n\u001b[0m",
      "\u001b[1;31mValueError\u001b[0m: shapes (3952,100) and (3952,3952) not aligned: 100 (dim 1) != 3952 (dim 0)"
     ]
    }
   ],
   "source": [
    "V@inv((V@P)[:k,:])"
   ]
  },
  {
   "cell_type": "code",
   "execution_count": 158,
   "metadata": {
    "scrolled": true
   },
   "outputs": [
    {
     "data": {
      "text/plain": [
       "array([[   0,   12],\n",
       "       [   1, 1229],\n",
       "       [   2, 2857],\n",
       "       ...,\n",
       "       [3949, 3949],\n",
       "       [3950, 3950],\n",
       "       [3951, 3951]], dtype=int32)"
      ]
     },
     "execution_count": 158,
     "metadata": {},
     "output_type": "execute_result"
    }
   ],
   "source": [
    "np.argwhere(P==1)"
   ]
  },
  {
   "cell_type": "code",
   "execution_count": null,
   "metadata": {},
   "outputs": [],
   "source": [
    "B = np.dot(VT,)"
   ]
  },
  {
   "cell_type": "code",
   "execution_count": 100,
   "metadata": {},
   "outputs": [
    {
     "data": {
      "text/plain": [
       "(100, array([272.66518575,  75.69276327,  53.76912901,  41.33494346,\n",
       "         31.84362203,  30.50152151,  26.08846627,  20.1362878 ,\n",
       "         19.2632964 ,  16.24013625,  14.00991922,  12.91939043,\n",
       "         11.19548879,  11.03350205,  10.30864067,   9.73792103,\n",
       "          9.19913001,   8.32774896,   7.80495335,   7.54841361,\n",
       "          7.43157784,   7.09629936,   6.74438354,   6.69771111,\n",
       "          6.28574932,   6.00884449,   5.85847521,   5.70672968,\n",
       "          5.60846669,   5.43380332,   5.18402344,   4.98587012,\n",
       "          4.86878946,   4.78167926,   4.71938979,   4.60323996,\n",
       "          4.59737288,   4.43584676,   4.40246766,   4.32668774,\n",
       "          4.23374646,   4.20015444,   4.16149382,   4.09630131,\n",
       "          4.02657221,   3.98087437,   3.87683638,   3.83986104,\n",
       "          3.80572635,   3.73377714,   3.68369339,   3.6553855 ,\n",
       "          3.61050578,   3.51222755,   3.48449143,   3.45271957,\n",
       "          3.39860383,   3.35617818,   3.33513261,   3.30056235,\n",
       "          3.28956496,   3.27087091,   3.22483478,   3.20043913,\n",
       "          3.18984961,   3.17013834,   3.12191914,   3.10385798,\n",
       "          3.07395193,   3.04505221,   3.03462444,   3.00808111,\n",
       "          2.98640717,   2.96629155,   2.94944924,   2.9404169 ,\n",
       "          2.91246199,   2.87857443,   2.87005359,   2.85359947,\n",
       "          2.82050936,   2.8023259 ,   2.79505408,   2.78267659,\n",
       "          2.76011114,   2.74858605,   2.73909828,   2.70912023,\n",
       "          2.70640356,   2.68028157,   2.66883266,   2.65424084,\n",
       "          2.65055453,   2.64815764,   2.62487759,   2.62024057,\n",
       "          2.5983732 ,   2.58792992,   2.5786717 ,   2.5658585 ]), array([0.13508189, 0.03749918, 0.02663793, 0.02047787, 0.01577575,\n",
       "        0.01511085, 0.01292457, 0.00997578, 0.00954329, 0.00804558,\n",
       "        0.0069407 , 0.00640043, 0.00554639, 0.00546614, 0.00510704,\n",
       "        0.00482429, 0.00455737, 0.00412568, 0.00386668, 0.00373958,\n",
       "        0.0036817 , 0.0035156 , 0.00334126, 0.00331813, 0.00311404,\n",
       "        0.00297686, 0.00290237, 0.00282719, 0.00277851, 0.00269198,\n",
       "        0.00256823, 0.00247007, 0.00241206, 0.00236891, 0.00233805,\n",
       "        0.00228051, 0.0022776 , 0.00219758, 0.00218104, 0.0021435 ,\n",
       "        0.00209745, 0.00208081, 0.00206166, 0.00202936, 0.00199482,\n",
       "        0.00197218, 0.00192064, 0.00190232, 0.00188541, 0.00184976,\n",
       "        0.00182495, 0.00181093, 0.00178869, 0.00174   , 0.00172626,\n",
       "        0.00171052, 0.00168371, 0.00166269, 0.00165227, 0.00163514,\n",
       "        0.00162969, 0.00162043, 0.00159763, 0.00158554, 0.00158029,\n",
       "        0.00157053, 0.00154664, 0.00153769, 0.00152288, 0.00150856,\n",
       "        0.00150339, 0.00149024, 0.00147951, 0.00146954, 0.0014612 ,\n",
       "        0.00145672, 0.00144287, 0.00142608, 0.00142186, 0.00141371,\n",
       "        0.00139732, 0.00138831, 0.00138471, 0.00137857, 0.0013674 ,\n",
       "        0.00136169, 0.00135699, 0.00134213, 0.00134079, 0.00132785,\n",
       "        0.00132217, 0.00131495, 0.00131312, 0.00131193, 0.0013004 ,\n",
       "        0.0012981 , 0.00128727, 0.00128209, 0.00127751, 0.00127116]))"
      ]
     },
     "execution_count": 100,
     "metadata": {},
     "output_type": "execute_result"
    }
   ],
   "source": [
    "len(svd.explained_variance_),svd.explained_variance_,svd.explained_variance_ratio_"
   ]
  },
  {
   "cell_type": "code",
   "execution_count": 79,
   "metadata": {},
   "outputs": [
    {
     "data": {
      "text/plain": [
       "array([[0.61760468, 0.9875169 ],\n",
       "       [0.51466368, 0.76692846]])"
      ]
     },
     "execution_count": 79,
     "metadata": {},
     "output_type": "execute_result"
    }
   ],
   "source": [
    "arr = np.random.rand(2,2)\n",
    "arr"
   ]
  },
  {
   "cell_type": "code",
   "execution_count": 81,
   "metadata": {},
   "outputs": [
    {
     "data": {
      "text/plain": [
       "0.987516903892259"
      ]
     },
     "execution_count": 81,
     "metadata": {},
     "output_type": "execute_result"
    }
   ],
   "source": [
    "arr.max()"
   ]
  },
  {
   "cell_type": "code",
   "execution_count": 40,
   "metadata": {},
   "outputs": [
    {
     "data": {
      "text/plain": [
       "(1000209, 4)"
      ]
     },
     "execution_count": 40,
     "metadata": {},
     "output_type": "execute_result"
    }
   ],
   "source": [
    "ratings.shape"
   ]
  }
 ],
 "metadata": {
  "kernelspec": {
   "display_name": "Python 3",
   "language": "python",
   "name": "python3"
  },
  "language_info": {
   "codemirror_mode": {
    "name": "ipython",
    "version": 3
   },
   "file_extension": ".py",
   "mimetype": "text/x-python",
   "name": "python",
   "nbconvert_exporter": "python",
   "pygments_lexer": "ipython3",
   "version": "3.6.3"
  }
 },
 "nbformat": 4,
 "nbformat_minor": 2
}
