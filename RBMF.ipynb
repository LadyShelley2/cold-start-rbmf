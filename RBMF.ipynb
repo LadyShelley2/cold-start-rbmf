{
 "cells": [
  {
   "cell_type": "code",
   "execution_count": 174,
   "metadata": {
    "scrolled": true
   },
   "outputs": [],
   "source": [
    "import pandas as pd\n",
    "import numpy as np\n",
    "import pickle\n",
    "from sklearn.model_selection import train_test_split\n",
    "from sklearn.utils.extmath import randomized_svd\n",
    "from scipy.linalg import lu\n",
    "from numpy.linalg import inv,det"
   ]
  },
  {
   "cell_type": "markdown",
   "metadata": {},
   "source": [
    "## 准备数据\n",
    "### 读取数据并构造评分矩阵"
   ]
  },
  {
   "cell_type": "code",
   "execution_count": 5,
   "metadata": {},
   "outputs": [
    {
     "name": "stderr",
     "output_type": "stream",
     "text": [
      "c:\\users\\lbb\\appdata\\local\\programs\\python\\python36-32\\lib\\site-packages\\ipykernel_launcher.py:1: ParserWarning: Falling back to the 'python' engine because the 'c' engine does not support regex separators (separators > 1 char and different from '\\s+' are interpreted as regex); you can avoid this warning by specifying engine='python'.\n",
      "  \"\"\"Entry point for launching an IPython kernel.\n"
     ]
    }
   ],
   "source": [
    "ratings = pd.read_table('./ml-1m/ratings.dat',sep=\"::\",header= None)"
   ]
  },
  {
   "cell_type": "code",
   "execution_count": 6,
   "metadata": {},
   "outputs": [],
   "source": [
    "ratings.columns = [\"userId\",\"itemId\",\"rating\",\"timestamp\"]"
   ]
  },
  {
   "cell_type": "code",
   "execution_count": 10,
   "metadata": {},
   "outputs": [],
   "source": [
    "user_count = ratings.max().userId\n",
    "item_count = ratings.max().itemId\n",
    "rating_matrix = np.zeros([user_count,item_count])"
   ]
  },
  {
   "cell_type": "code",
   "execution_count": 58,
   "metadata": {},
   "outputs": [
    {
     "data": {
      "text/plain": [
       "(6040, 3952)"
      ]
     },
     "execution_count": 58,
     "metadata": {},
     "output_type": "execute_result"
    }
   ],
   "source": [
    "user_count,item_count"
   ]
  },
  {
   "cell_type": "code",
   "execution_count": 41,
   "metadata": {},
   "outputs": [],
   "source": [
    "# 将评分存入矩阵\n",
    "for i in range(0,ratings.shape[0]):\n",
    "    row = ratings.iloc[i]['userId']-1\n",
    "    column = ratings.iloc[i]['itemId']-1\n",
    "    rating_matrix[row][column] = ratings.iloc[i]['rating']"
   ]
  },
  {
   "cell_type": "code",
   "execution_count": 54,
   "metadata": {},
   "outputs": [],
   "source": [
    "tmp_arr = np.zeros([2,2])"
   ]
  },
  {
   "cell_type": "code",
   "execution_count": 55,
   "metadata": {},
   "outputs": [],
   "source": [
    "tmp_arr.dump('rating_matrix.dat')"
   ]
  },
  {
   "cell_type": "code",
   "execution_count": 56,
   "metadata": {},
   "outputs": [],
   "source": [
    "arr_load = np.load(\"rating_matrix.dat\")"
   ]
  },
  {
   "cell_type": "code",
   "execution_count": 57,
   "metadata": {},
   "outputs": [
    {
     "data": {
      "text/plain": [
       "array([[0., 0.],\n",
       "       [0., 0.]])"
      ]
     },
     "execution_count": 57,
     "metadata": {},
     "output_type": "execute_result"
    }
   ],
   "source": [
    "arr_load"
   ]
  },
  {
   "cell_type": "markdown",
   "metadata": {},
   "source": [
    "### 划分训练集和测试集"
   ]
  },
  {
   "cell_type": "code",
   "execution_count": 64,
   "metadata": {},
   "outputs": [],
   "source": [
    "m_train,m_test = train_test_split(rating_matrix, shuffle=True,test_size=0.25,random_state = 42)"
   ]
  },
  {
   "cell_type": "markdown",
   "metadata": {},
   "source": [
    "## SVD 分解"
   ]
  },
  {
   "cell_type": "code",
   "execution_count": 93,
   "metadata": {},
   "outputs": [],
   "source": [
    "# 定义超参数\n",
    "k = 100 # 分解的维度\n",
    "n_iter = 100 # SVD迭代的次数\n",
    "random_state = 10 # SVD 分解随机数种子"
   ]
  },
  {
   "cell_type": "code",
   "execution_count": 104,
   "metadata": {},
   "outputs": [],
   "source": [
    "U,Sigma,VT = randomized_svd(rating_matrix,n_components = k,n_iter = n_iter,random_state = random_state)"
   ]
  },
  {
   "cell_type": "code",
   "execution_count": 106,
   "metadata": {},
   "outputs": [
    {
     "name": "stdout",
     "output_type": "stream",
     "text": [
      "(6040, 100)\n",
      "(100,)\n",
      "(100, 3952)\n"
     ]
    }
   ],
   "source": [
    "print(U.shape)\n",
    "print(Sigma.shape)\n",
    "print(VT.shape)"
   ]
  },
  {
   "cell_type": "code",
   "execution_count": 108,
   "metadata": {
    "scrolled": true
   },
   "outputs": [
    {
     "data": {
      "text/plain": [
       "array([[ 0.00471429,  0.00165385, -0.00268146, ..., -0.0165422 ,\n",
       "        -0.00175571, -0.01677942],\n",
       "       [ 0.01075613, -0.00290476, -0.00020252, ..., -0.02502318,\n",
       "        -0.00697375, -0.01471592],\n",
       "       [ 0.00846798,  0.00191265,  0.00400211, ..., -0.01403078,\n",
       "        -0.00021911,  0.00765841],\n",
       "       ...,\n",
       "       [ 0.00138737,  0.0018147 ,  0.00011959, ...,  0.00138445,\n",
       "        -0.00037443, -0.00015454],\n",
       "       [ 0.00700296,  0.01876548,  0.01069747, ...,  0.01244836,\n",
       "         0.00599503, -0.02277751],\n",
       "       [ 0.01894793,  0.04081048,  0.00304383, ..., -0.0023173 ,\n",
       "         0.02302077, -0.00444759]])"
      ]
     },
     "execution_count": 108,
     "metadata": {},
     "output_type": "execute_result"
    }
   ],
   "source": [
    "U"
   ]
  },
  {
   "cell_type": "markdown",
   "metadata": {},
   "source": [
    "## 选择代表性 Item"
   ]
  },
  {
   "cell_type": "code",
   "execution_count": 113,
   "metadata": {},
   "outputs": [],
   "source": [
    "V = VT.transpose()"
   ]
  },
  {
   "cell_type": "code",
   "execution_count": 117,
   "metadata": {},
   "outputs": [],
   "source": [
    "P,L,U = lu(V)"
   ]
  },
  {
   "cell_type": "code",
   "execution_count": 177,
   "metadata": {},
   "outputs": [],
   "source": [
    "# todo\n",
    "# 算法不正确\n",
    "\n",
    "def representive_selection():\n",
    "    # init with LU factorization\n",
    "    P,L,U = lu(V)\n",
    "    #while True:\n",
    "    for time in range(0,10):\n",
    "        # 计算P\n",
    "        B = V@inv((P.transpose()@V)[:k,:])\n",
    "        # 寻找最大值\n",
    "        max = B.max()\n",
    "        # 计算行列式值\n",
    "        det_val = det((P.transpose()@V)[:k,:])\n",
    "        # 找到最大值所在index\n",
    "        index = np.argwhere(B==max)\n",
    "        # 交换index\n",
    "        for i in index:\n",
    "            print(i)\n",
    "            print(np.argwhere(P[i[0],:]==1))\n",
    "            print(np.argwhere(P[i[1],:]==1))\n",
    "\n",
    "            tmp = P[i[0],:].copy()\n",
    "            P[i[0],:] =  P[i[1],:].copy()\n",
    "            P[i[1],:] = tmp\n",
    "            \n",
    "        # 返回最后的permutation matrix P \n",
    "        return P\n"
   ]
  },
  {
   "cell_type": "markdown",
   "metadata": {},
   "source": [
    "## 求解 loading 矩阵 X"
   ]
  }
 ],
 "metadata": {
  "kernelspec": {
   "display_name": "Python 3",
   "language": "python",
   "name": "python3"
  },
  "language_info": {
   "codemirror_mode": {
    "name": "ipython",
    "version": 3
   },
   "file_extension": ".py",
   "mimetype": "text/x-python",
   "name": "python",
   "nbconvert_exporter": "python",
   "pygments_lexer": "ipython3",
   "version": "3.6.3"
  }
 },
 "nbformat": 4,
 "nbformat_minor": 2
}
